{
 "cells": [
  {
   "cell_type": "markdown",
   "metadata": {},
   "source": [
    "Here tempature data is plotted from multiple sources to show the increase in tempature.\n",
    "\n",
    "Currently only U.S. data is shown but I would like to add more countries to rule out any politcial bias. \n",
    "\n",
    "by Joseph Paul Cohen 2017"
   ]
  },
  {
   "cell_type": "markdown",
   "metadata": {},
   "source": [
    "# First a yearly average of tempature data for a weather station in Central Park New York.\n",
    "\n",
    "### The group that produced the data is the U.S. NOAA National Weather Service Eastern Region Headquarters\n",
    "\n",
    "#### Source: https://web.archive.org/web/20150421234513/http://www.erh.noaa.gov/okx/climate/records/monthannualtemp.html"
   ]
  },
  {
   "cell_type": "code",
   "execution_count": 1,
   "metadata": {
    "collapsed": true
   },
   "outputs": [],
   "source": [
    "import csv\n",
    "import numpy as np\n",
    "import matplotlib.pyplot as plt\n",
    "\n",
    "%matplotlib inline\n",
    "plt.rcParams['figure.figsize'] = (10, 3)"
   ]
  },
  {
   "cell_type": "code",
   "execution_count": 2,
   "metadata": {
    "collapsed": false
   },
   "outputs": [
    {
     "ename": "IOError",
     "evalue": "[Errno 2] No such file or directory: 'noaa-erh-okx-1869-2012.csv'",
     "output_type": "error",
     "traceback": [
      "\u001b[0;31m---------------------------------------------------------------------------\u001b[0m",
      "\u001b[0;31mIOError\u001b[0m                                   Traceback (most recent call last)",
      "\u001b[0;32m<ipython-input-2-915c2671168e>\u001b[0m in \u001b[0;36m<module>\u001b[0;34m()\u001b[0m\n\u001b[0;32m----> 1\u001b[0;31m \u001b[0mcsvfile\u001b[0m \u001b[0;34m=\u001b[0m \u001b[0mopen\u001b[0m\u001b[0;34m(\u001b[0m\u001b[0;34m'noaa-erh-okx-1869-2012.csv'\u001b[0m\u001b[0;34m,\u001b[0m \u001b[0;34m'rb'\u001b[0m\u001b[0;34m)\u001b[0m\u001b[0;34m\u001b[0m\u001b[0m\n\u001b[0m\u001b[1;32m      2\u001b[0m \u001b[0;34m\u001b[0m\u001b[0m\n\u001b[1;32m      3\u001b[0m \u001b[0mreader\u001b[0m \u001b[0;34m=\u001b[0m \u001b[0mcsv\u001b[0m\u001b[0;34m.\u001b[0m\u001b[0mreader\u001b[0m\u001b[0;34m(\u001b[0m\u001b[0mcsvfile\u001b[0m\u001b[0;34m)\u001b[0m\u001b[0;34m\u001b[0m\u001b[0m\n\u001b[1;32m      4\u001b[0m \u001b[0mreader\u001b[0m\u001b[0;34m.\u001b[0m\u001b[0mnext\u001b[0m\u001b[0;34m(\u001b[0m\u001b[0;34m)\u001b[0m\u001b[0;34m\u001b[0m\u001b[0m\n\u001b[1;32m      5\u001b[0m \u001b[0merh_headers\u001b[0m \u001b[0;34m=\u001b[0m \u001b[0mreader\u001b[0m\u001b[0;34m.\u001b[0m\u001b[0mnext\u001b[0m\u001b[0;34m(\u001b[0m\u001b[0;34m)\u001b[0m\u001b[0;34m\u001b[0m\u001b[0m\n",
      "\u001b[0;31mIOError\u001b[0m: [Errno 2] No such file or directory: 'noaa-erh-okx-1869-2012.csv'"
     ]
    }
   ],
   "source": [
    "csvfile = open('noaa-erh-okx-1869-2012.csv', 'rb')\n",
    "\n",
    "reader = csv.reader(csvfile)\n",
    "reader.next()\n",
    "erh_headers = reader.next()\n",
    "print erh_headers\n",
    "\n",
    "data = []\n",
    "for row in reader: \n",
    "    data.append(row)\n",
    "\n",
    "erh_data = np.asarray(data)"
   ]
  },
  {
   "cell_type": "code",
   "execution_count": null,
   "metadata": {
    "collapsed": true
   },
   "outputs": [],
   "source": []
  },
  {
   "cell_type": "code",
   "execution_count": null,
   "metadata": {
    "collapsed": false
   },
   "outputs": [],
   "source": [
    "plt.plot(erh_data[:,erh_headers.index(\"YEAR\")],erh_data[:,erh_headers.index(\"ANNUAL\")]);\n",
    "\n",
    "from scipy.stats import linregress\n",
    "lr = linregress(erh_data[:,erh_headers.index(\"YEAR\")].astype(np.float),erh_data[:,erh_headers.index(\"ANNUAL\")].astype(np.float))\n",
    "plt.plot(np.arange(1869.,2050.),lr.slope*np.arange(1869.,2050.) + lr.intercept)"
   ]
  },
  {
   "cell_type": "code",
   "execution_count": null,
   "metadata": {
    "collapsed": false
   },
   "outputs": [],
   "source": []
  },
  {
   "cell_type": "markdown",
   "metadata": {},
   "source": [
    "# A yearly average of tempature data for all weather stations in the state of New York\n",
    "\n",
    "### This data is from the \"Climate at a Glance\" product of the U.S. NOAA National Climatic Data Center.\n",
    "\n",
    "#### Source: https://www.ncdc.noaa.gov/cag/time-series/us/30/0/tavg/12/1/1895-2016"
   ]
  },
  {
   "cell_type": "code",
   "execution_count": null,
   "metadata": {
    "collapsed": false
   },
   "outputs": [],
   "source": [
    "csvfile = open('noaa-cag-time-series-ny-1895-2016.csv', 'rb')\n",
    "\n",
    "reader = csv.reader(csvfile)\n",
    "for i in range(4): reader.next()\n",
    "cag_headers = reader.next()\n",
    "print cag_headers\n",
    "\n",
    "data = []\n",
    "for row in reader: \n",
    "    data.append(row)\n",
    "\n",
    "cag_data = np.asarray(data)"
   ]
  },
  {
   "cell_type": "code",
   "execution_count": null,
   "metadata": {
    "collapsed": false
   },
   "outputs": [],
   "source": [
    "plt.plot(cag_data[:,cag_headers.index(\"Date\")],cag_data[:,cag_headers.index(\"Value\")]);\n",
    "\n",
    "from scipy.stats import linregress\n",
    "lr = linregress(cag_data[:,cag_headers.index(\"Date\")].astype(np.float),cag_data[:,cag_headers.index(\"Value\")].astype(np.float))\n",
    "plt.plot(np.arange(1895.,2050.),lr.slope*np.arange(1895.,2050.) + lr.intercept)"
   ]
  },
  {
   "cell_type": "code",
   "execution_count": null,
   "metadata": {
    "collapsed": true
   },
   "outputs": [],
   "source": []
  },
  {
   "cell_type": "markdown",
   "metadata": {},
   "source": [
    "# Now the west cost in Fresno, California"
   ]
  },
  {
   "cell_type": "code",
   "execution_count": null,
   "metadata": {
    "collapsed": false
   },
   "outputs": [],
   "source": [
    "csvfile = open('noaa-cag-time-series-ca-fresno-1896-2016.csv', 'rb')\n",
    "\n",
    "reader = csv.reader(csvfile)\n",
    "for i in range(4): reader.next()\n",
    "cag_headers = reader.next()\n",
    "print cag_headers\n",
    "\n",
    "data = []\n",
    "for row in reader: \n",
    "    data.append(row)\n",
    "\n",
    "cag_data = np.asarray(data)\n",
    "\n"
   ]
  },
  {
   "cell_type": "code",
   "execution_count": null,
   "metadata": {
    "collapsed": false
   },
   "outputs": [],
   "source": [
    "plt.plot(cag_data[:,cag_headers.index(\"Date\")],cag_data[:,cag_headers.index(\"Value\")]);\n",
    "\n",
    "from scipy.stats import linregress\n",
    "lr = linregress(cag_data[:,cag_headers.index(\"Date\")].astype(np.float),cag_data[:,cag_headers.index(\"Value\")].astype(np.float))\n",
    "plt.plot(np.arange(1895.,2050.),lr.slope*np.arange(1895.,2050.) + lr.intercept)"
   ]
  },
  {
   "cell_type": "code",
   "execution_count": null,
   "metadata": {
    "collapsed": true
   },
   "outputs": [],
   "source": []
  },
  {
   "cell_type": "markdown",
   "metadata": {},
   "source": [
    "# A statewide average of Texas"
   ]
  },
  {
   "cell_type": "code",
   "execution_count": null,
   "metadata": {
    "collapsed": false
   },
   "outputs": [],
   "source": [
    "csvfile = open('noaa-cag-time-series-texas-1896-2016.csv', 'rb')\n",
    "\n",
    "reader = csv.reader(csvfile)\n",
    "for i in range(4): reader.next()\n",
    "cag_headers = reader.next()\n",
    "print cag_headers\n",
    "\n",
    "data = []\n",
    "for row in reader: \n",
    "    data.append(row)\n",
    "\n",
    "cag_data = np.asarray(data)"
   ]
  },
  {
   "cell_type": "code",
   "execution_count": null,
   "metadata": {
    "collapsed": false
   },
   "outputs": [],
   "source": [
    "plt.plot(cag_data[:,cag_headers.index(\"Date\")],cag_data[:,cag_headers.index(\"Value\")]);\n",
    "\n",
    "from scipy.stats import linregress\n",
    "lr = linregress(cag_data[:,cag_headers.index(\"Date\")].astype(np.float),cag_data[:,cag_headers.index(\"Value\")].astype(np.float))\n",
    "plt.plot(np.arange(1895.,2050.),lr.slope*np.arange(1895.,2050.) + lr.intercept)"
   ]
  },
  {
   "cell_type": "code",
   "execution_count": null,
   "metadata": {
    "collapsed": true
   },
   "outputs": [],
   "source": []
  }
 ],
 "metadata": {
  "kernelspec": {
   "display_name": "Python 2",
   "language": "python",
   "name": "python2"
  },
  "language_info": {
   "codemirror_mode": {
    "name": "ipython",
    "version": 2
   },
   "file_extension": ".py",
   "mimetype": "text/x-python",
   "name": "python",
   "nbconvert_exporter": "python",
   "pygments_lexer": "ipython2",
   "version": "2.7.12"
  },
  "widgets": {
   "state": {},
   "version": "2.0.10"
  }
 },
 "nbformat": 4,
 "nbformat_minor": 2
}
